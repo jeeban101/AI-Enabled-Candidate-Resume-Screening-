{
  "nbformat": 4,
  "nbformat_minor": 0,
  "metadata": {
    "colab": {
      "provenance": []
    },
    "kernelspec": {
      "name": "python3",
      "display_name": "Python 3"
    },
    "language_info": {
      "name": "python"
    }
  },
  "cells": [
    {
      "cell_type": "code",
      "execution_count": null,
      "metadata": {
        "colab": {
          "base_uri": "https://localhost:8080/"
        },
        "id": "g2bQhSZXbQp_",
        "outputId": "2b980958-5edb-4005-c22b-6f7fcc2316fe"
      },
      "outputs": [
        {
          "output_type": "stream",
          "name": "stdout",
          "text": [
            "Mounted at /content/drive\n"
          ]
        }
      ],
      "source": [
        "from google.colab import drive\n",
        "drive.mount('/content/drive')"
      ]
    },
    {
      "cell_type": "code",
      "source": [
        "import pandas as pd\n",
        "import numpy as np\n",
        "from sklearn.model_selection import train_test_split\n",
        "from sklearn.preprocessing import LabelEncoder, StandardScaler\n",
        "import tensorflow as tf\n",
        "from tensorflow.keras.models import Sequential\n",
        "from tensorflow.keras.layers import Dense\n",
        "\n",
        "# Task 1: Data Preprocessing\n",
        "# Read the dataset\n",
        "df = pd.read_csv('/content/drive/MyDrive/SmartBridge AI/drug200.csv')\n",
        "\n",
        "# Convert categorical features to numerical using LabelEncoder\n",
        "categorical_features = ['Sex', 'BP', 'Cholesterol', 'Drug']\n",
        "label_encoders = {}\n",
        "for feature in categorical_features:\n",
        "    le = LabelEncoder()\n",
        "    df[feature] = le.fit_transform(df[feature])\n",
        "    label_encoders[feature] = le\n",
        "\n",
        "# Split the dataset into input features (X) and target variable (y)\n",
        "X = df.drop('Drug', axis=1)\n",
        "y = df['Drug']\n",
        "\n",
        "# Normalize the input features using StandardScaler\n",
        "scaler = StandardScaler()\n",
        "X = scaler.fit_transform(X)\n",
        "\n",
        "# Split the data into training and testing sets\n",
        "X_train, X_test, y_train, y_test = train_test_split(X, y, test_size=0.2, random_state=42)\n",
        "\n"
      ],
      "metadata": {
        "id": "p2JFmbRnX4pP"
      },
      "execution_count": null,
      "outputs": []
    },
    {
      "cell_type": "code",
      "source": [
        "# Task 2: Build the ANN model\n",
        "# Define the model architecture\n",
        "model = Sequential()\n",
        "model.add(Dense(64, activation='relu', input_dim=X_train.shape[1]))\n",
        "model.add(Dense(32, activation='relu'))\n",
        "model.add(Dense(5, activation='softmax'))\n",
        "\n",
        "# Compile the model\n",
        "model.compile(optimizer='adam', loss='sparse_categorical_crossentropy', metrics=['accuracy'])\n",
        "\n",
        "# Train the model\n",
        "model.fit(X_train, y_train, epochs=10, batch_size=32, validation_data=(X_test, y_test))\n"
      ],
      "metadata": {
        "colab": {
          "base_uri": "https://localhost:8080/"
        },
        "id": "58Uf5C_wbgrq",
        "outputId": "ccb57244-3d18-4e95-b38b-37fc1a8f3612"
      },
      "execution_count": null,
      "outputs": [
        {
          "output_type": "stream",
          "name": "stdout",
          "text": [
            "Epoch 1/10\n",
            "5/5 [==============================] - 1s 90ms/step - loss: 1.5442 - accuracy: 0.3375 - val_loss: 1.4911 - val_accuracy: 0.4500\n",
            "Epoch 2/10\n",
            "5/5 [==============================] - 0s 14ms/step - loss: 1.4301 - accuracy: 0.4875 - val_loss: 1.4145 - val_accuracy: 0.5500\n",
            "Epoch 3/10\n",
            "5/5 [==============================] - 0s 14ms/step - loss: 1.3341 - accuracy: 0.5500 - val_loss: 1.3424 - val_accuracy: 0.5250\n",
            "Epoch 4/10\n",
            "5/5 [==============================] - 0s 13ms/step - loss: 1.2486 - accuracy: 0.6250 - val_loss: 1.2739 - val_accuracy: 0.5250\n",
            "Epoch 5/10\n",
            "5/5 [==============================] - 0s 14ms/step - loss: 1.1685 - accuracy: 0.6562 - val_loss: 1.2112 - val_accuracy: 0.5750\n",
            "Epoch 6/10\n",
            "5/5 [==============================] - 0s 14ms/step - loss: 1.0979 - accuracy: 0.6812 - val_loss: 1.1528 - val_accuracy: 0.6250\n",
            "Epoch 7/10\n",
            "5/5 [==============================] - 0s 14ms/step - loss: 1.0334 - accuracy: 0.7188 - val_loss: 1.0987 - val_accuracy: 0.6250\n",
            "Epoch 8/10\n",
            "5/5 [==============================] - 0s 16ms/step - loss: 0.9721 - accuracy: 0.7375 - val_loss: 1.0455 - val_accuracy: 0.6250\n",
            "Epoch 9/10\n",
            "5/5 [==============================] - 0s 19ms/step - loss: 0.9164 - accuracy: 0.7625 - val_loss: 0.9972 - val_accuracy: 0.6500\n",
            "Epoch 10/10\n",
            "5/5 [==============================] - 0s 17ms/step - loss: 0.8643 - accuracy: 0.7688 - val_loss: 0.9507 - val_accuracy: 0.6500\n"
          ]
        },
        {
          "output_type": "execute_result",
          "data": {
            "text/plain": [
              "<keras.callbacks.History at 0x7fed2c5e4d90>"
            ]
          },
          "metadata": {},
          "execution_count": 3
        }
      ]
    },
    {
      "cell_type": "code",
      "source": [
        "# Task 3: Make predictions on random data\n",
        "import numpy as np\n",
        "\n",
        "# Define the drug class dictionary\n",
        "drug_classes = {0: 'drugA', 1: 'drugB', 2: 'drugC', 3: 'drugX', 4: 'drugY'}\n",
        "\n",
        "# Generate random data\n",
        "random_data = np.array([[55, 0, 3, 1, 8]])  # Random input data\n",
        "\n",
        "# Redefine feature names for the random data\n",
        "random_feature_names = ['Age', 'Sex', 'BP', 'Cholesterol', 'Na_to_K']\n",
        "random_df = pd.DataFrame(random_data, columns=random_feature_names)\n",
        "\n",
        "# Preprocess the random data\n",
        "random_data = scaler.transform(random_df)\n",
        "\n",
        "# Make predictions\n",
        "predictions = model.predict(random_data)\n",
        "\n",
        "# Convert predictions to drug class labels\n",
        "predicted_class = np.argmax(predictions)\n",
        "\n",
        "\n",
        "# Print the predicted drug class\n",
        "predicted_drug = drug_classes[predicted_class]\n",
        "\n",
        "print(\"Predicted Drug Class:\", predicted_drug)"
      ],
      "metadata": {
        "colab": {
          "base_uri": "https://localhost:8080/"
        },
        "id": "nNrjnhV4bns6",
        "outputId": "af727133-3329-422f-f0a0-567dd9cfacfb"
      },
      "execution_count": null,
      "outputs": [
        {
          "output_type": "stream",
          "name": "stdout",
          "text": [
            "1/1 [==============================] - 0s 31ms/step\n",
            "Predicted Drug Class: drugY\n"
          ]
        }
      ]
    },
    {
      "cell_type": "code",
      "source": [
        "# Task 3: Make predictions on random data with different sample data\n",
        "# Define the drug class dictionary\n",
        "drug_classes = {0: 'drugA', 1: 'drugB', 2: 'drugC', 3: 'drugX', 4: 'drugY'}\n",
        "\n",
        "# Generate random data\n",
        "random_data = np.array([[70, 1, 0, 0.5, 25]])  # Random input data\n",
        "\n",
        "# Redefine feature names for the random data\n",
        "random_feature_names = ['Age', 'Sex', 'BP', 'Cholesterol', 'Na_to_K']\n",
        "random_df = pd.DataFrame(random_data, columns=random_feature_names)\n",
        "\n",
        "# Preprocess the random data\n",
        "random_data = scaler.transform(random_df)\n",
        "\n",
        "# Make predictions\n",
        "predictions = model.predict(random_data)\n",
        "\n",
        "# Convert predictions to drug class labels\n",
        "predicted_class = np.argmax(predictions)\n",
        "\n",
        "\n",
        "# Print the predicted drug class\n",
        "predicted_drug = drug_classes[predicted_class]\n",
        "\n",
        "print(\"Predicted Drug Class:\", predicted_drug)"
      ],
      "metadata": {
        "colab": {
          "base_uri": "https://localhost:8080/"
        },
        "id": "a0qCyH1fcHGS",
        "outputId": "7fa41305-29af-41d0-f429-12465bca5899"
      },
      "execution_count": null,
      "outputs": [
        {
          "output_type": "stream",
          "name": "stdout",
          "text": [
            "1/1 [==============================] - 0s 32ms/step\n",
            "Predicted Drug Class: drugA\n"
          ]
        }
      ]
    }
  ]
}