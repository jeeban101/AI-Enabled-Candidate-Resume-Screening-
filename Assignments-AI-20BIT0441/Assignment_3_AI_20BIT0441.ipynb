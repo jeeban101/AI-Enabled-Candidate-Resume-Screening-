{
  "nbformat": 4,
  "nbformat_minor": 0,
  "metadata": {
    "colab": {
      "provenance": []
    },
    "kernelspec": {
      "name": "python3",
      "display_name": "Python 3"
    },
    "language_info": {
      "name": "python"
    }
  },
  "cells": [
    {
      "cell_type": "code",
      "execution_count": null,
      "metadata": {
        "colab": {
          "base_uri": "https://localhost:8080/"
        },
        "id": "l6ncjeX5RDPz",
        "outputId": "57b0e5c9-4b14-461b-9c4c-5dd9b9007310"
      },
      "outputs": [
        {
          "output_type": "stream",
          "name": "stdout",
          "text": [
            "Drive already mounted at /content/drive; to attempt to forcibly remount, call drive.mount(\"/content/drive\", force_remount=True).\n"
          ]
        }
      ],
      "source": [
        "from google.colab import drive\n",
        "drive.mount('/content/drive')"
      ]
    },
    {
      "cell_type": "code",
      "source": [
        "\n",
        "from tensorflow.keras.layers import Convolution2D, MaxPooling2D, Flatten, Dense\n",
        "from tensorflow.keras.models import Sequential\n",
        "from tensorflow.keras.preprocessing.image import ImageDataGenerator\n"
      ],
      "metadata": {
        "id": "GI37LuVGTb7L"
      },
      "execution_count": null,
      "outputs": []
    },
    {
      "cell_type": "code",
      "source": [
        "\n",
        "#data augmentation\n",
        "train_gen = ImageDataGenerator(\n",
        "    rescale=1./255,\n",
        "    horizontal_flip=True,\n",
        "    shear_range=0.2,\n",
        "    zoom_range=0.2\n",
        ")\n",
        "test_gen = ImageDataGenerator(rescale=1./255)\n",
        "train = train_gen.flow_from_directory(\n",
        "    '/content/drive/MyDrive/SmartBridge AI(20BIT0441)/birds_species/train_data/train_data',\n",
        "    target_size=(120, 120),\n",
        "    class_mode='categorical',\n",
        "    batch_size=8\n",
        ")\n",
        "\n",
        "test = test_gen.flow_from_directory(\n",
        "    '/content/drive/MyDrive/SmartBridge AI(20BIT0441)/birds_species/test_data/test_data',\n",
        "    target_size=(120, 120),\n",
        "    class_mode='categorical',\n",
        "    batch_size=8\n",
        ")\n",
        "\n"
      ],
      "metadata": {
        "colab": {
          "base_uri": "https://localhost:8080/"
        },
        "id": "_9vO1V44UdR1",
        "outputId": "b1668dfd-32c3-428a-c450-c4a71363f310"
      },
      "execution_count": null,
      "outputs": [
        {
          "output_type": "stream",
          "name": "stdout",
          "text": [
            "Found 150 images belonging to 16 classes.\n",
            "Found 157 images belonging to 16 classes.\n"
          ]
        }
      ]
    },
    {
      "cell_type": "code",
      "source": [
        "train.class_indices\n",
        "index_var = train.class_indices\n",
        "\n",
        "# Create a new dictionary with keys and values swapped\n",
        "new_index_var = {value: key for key, value in index_var.items()}\n",
        "print(index_var)\n",
        "print(new_index_var)\n",
        "new_index_var[2]"
      ],
      "metadata": {
        "colab": {
          "base_uri": "https://localhost:8080/",
          "height": 90
        },
        "id": "3a9L20WsUvel",
        "outputId": "66cada0e-5731-44fe-e8fb-2fd1093ac1d7"
      },
      "execution_count": null,
      "outputs": [
        {
          "output_type": "stream",
          "name": "stdout",
          "text": [
            "{'blasti': 0, 'bonegl': 1, 'brhkyt': 2, 'cbrtsh': 3, 'cmnmyn': 4, 'gretit': 5, 'hilpig': 6, 'himbul': 7, 'himgri': 8, 'hsparo': 9, 'indvul': 10, 'jglowl': 11, 'lbicrw': 12, 'mgprob': 13, 'rebimg': 14, 'wcrsrt': 15}\n",
            "{0: 'blasti', 1: 'bonegl', 2: 'brhkyt', 3: 'cbrtsh', 4: 'cmnmyn', 5: 'gretit', 6: 'hilpig', 7: 'himbul', 8: 'himgri', 9: 'hsparo', 10: 'indvul', 11: 'jglowl', 12: 'lbicrw', 13: 'mgprob', 14: 'rebimg', 15: 'wcrsrt'}\n"
          ]
        },
        {
          "output_type": "execute_result",
          "data": {
            "text/plain": [
              "'brhkyt'"
            ],
            "application/vnd.google.colaboratory.intrinsic+json": {
              "type": "string"
            }
          },
          "metadata": {},
          "execution_count": 28
        }
      ]
    },
    {
      "cell_type": "code",
      "source": [
        "import tensorflow as tf\n",
        "from tensorflow.keras.models import Sequential\n",
        "from tensorflow.keras.layers import Conv2D, MaxPooling2D, Flatten, Dense\n",
        "model = Sequential()\n",
        "model.add(Convolution2D(12,(3,3),activation='relu',input_shape=(120, 120,3))) #input_dim is target size and 3(channel) is rgb color img, for black n white 1\n",
        "model.add(MaxPooling2D(pool_size=(2,2)))\n",
        "model.add(Convolution2D(24,(3,3),activation='relu'))\n",
        "model.add(MaxPooling2D(pool_size=(2,2)))\n",
        "model.add(Convolution2D(36,(3,3),activation='relu'))\n",
        "model.add(MaxPooling2D(pool_size=(2,2)))\n",
        "model.add(Flatten())\n",
        "model.add(Dense(128,activation='relu'))\n",
        "model.add(Dense(62,activation='relu'))\n",
        "model.add(Dense(32,activation='relu'))\n",
        "model.add(Dense(16,activation='softmax')) # 16 coz the train,test have 16 folders\n"
      ],
      "metadata": {
        "id": "Lk88pk8_UvhM"
      },
      "execution_count": null,
      "outputs": []
    },
    {
      "cell_type": "code",
      "source": [
        "model.summary()"
      ],
      "metadata": {
        "colab": {
          "base_uri": "https://localhost:8080/"
        },
        "id": "wKjl9z2SUvkB",
        "outputId": "26645a22-9cfa-49a1-984f-b870e452d597"
      },
      "execution_count": null,
      "outputs": [
        {
          "output_type": "stream",
          "name": "stdout",
          "text": [
            "Model: \"sequential_2\"\n",
            "_________________________________________________________________\n",
            " Layer (type)                Output Shape              Param #   \n",
            "=================================================================\n",
            " conv2d_6 (Conv2D)           (None, 118, 118, 12)      336       \n",
            "                                                                 \n",
            " max_pooling2d_6 (MaxPooling  (None, 59, 59, 12)       0         \n",
            " 2D)                                                             \n",
            "                                                                 \n",
            " conv2d_7 (Conv2D)           (None, 57, 57, 24)        2616      \n",
            "                                                                 \n",
            " max_pooling2d_7 (MaxPooling  (None, 28, 28, 24)       0         \n",
            " 2D)                                                             \n",
            "                                                                 \n",
            " conv2d_8 (Conv2D)           (None, 26, 26, 36)        7812      \n",
            "                                                                 \n",
            " max_pooling2d_8 (MaxPooling  (None, 13, 13, 36)       0         \n",
            " 2D)                                                             \n",
            "                                                                 \n",
            " flatten_2 (Flatten)         (None, 6084)              0         \n",
            "                                                                 \n",
            " dense_8 (Dense)             (None, 128)               778880    \n",
            "                                                                 \n",
            " dense_9 (Dense)             (None, 62)                7998      \n",
            "                                                                 \n",
            " dense_10 (Dense)            (None, 32)                2016      \n",
            "                                                                 \n",
            " dense_11 (Dense)            (None, 16)                528       \n",
            "                                                                 \n",
            "=================================================================\n",
            "Total params: 800,186\n",
            "Trainable params: 800,186\n",
            "Non-trainable params: 0\n",
            "_________________________________________________________________\n"
          ]
        }
      ]
    },
    {
      "cell_type": "code",
      "source": [
        "model.compile(optimizer='adam',loss='categorical_crossentropy', metrics=['accuracy'])"
      ],
      "metadata": {
        "id": "3Aj5LBzcZ3pL"
      },
      "execution_count": null,
      "outputs": []
    },
    {
      "cell_type": "code",
      "source": [
        "model.fit(train, batch_size=32, validation_data=test, epochs=50)\n"
      ],
      "metadata": {
        "colab": {
          "base_uri": "https://localhost:8080/"
        },
        "id": "WqgiTSMpaYCq",
        "outputId": "b9a148bb-5261-4447-ac1e-f248380cdf49"
      },
      "execution_count": null,
      "outputs": [
        {
          "output_type": "stream",
          "name": "stdout",
          "text": [
            "Epoch 1/50\n",
            "19/19 [==============================] - 227s 13s/step - loss: 2.7422 - accuracy: 0.1067 - val_loss: 2.6844 - val_accuracy: 0.1529\n",
            "Epoch 2/50\n",
            "19/19 [==============================] - 134s 7s/step - loss: 2.5970 - accuracy: 0.1933 - val_loss: 2.7363 - val_accuracy: 0.1274\n",
            "Epoch 3/50\n",
            "19/19 [==============================] - 129s 7s/step - loss: 2.4626 - accuracy: 0.1733 - val_loss: 2.6566 - val_accuracy: 0.1783\n",
            "Epoch 4/50\n",
            "19/19 [==============================] - 129s 7s/step - loss: 2.4112 - accuracy: 0.1933 - val_loss: 2.7066 - val_accuracy: 0.1720\n",
            "Epoch 5/50\n",
            "19/19 [==============================] - 128s 7s/step - loss: 2.3806 - accuracy: 0.1733 - val_loss: 2.7541 - val_accuracy: 0.2166\n",
            "Epoch 6/50\n",
            "19/19 [==============================] - 130s 7s/step - loss: 2.3021 - accuracy: 0.2133 - val_loss: 2.6851 - val_accuracy: 0.2102\n",
            "Epoch 7/50\n",
            "19/19 [==============================] - 110s 6s/step - loss: 2.2482 - accuracy: 0.2333 - val_loss: 2.8257 - val_accuracy: 0.2229\n",
            "Epoch 8/50\n",
            "19/19 [==============================] - 129s 7s/step - loss: 2.1653 - accuracy: 0.2667 - val_loss: 2.7878 - val_accuracy: 0.2229\n",
            "Epoch 9/50\n",
            "19/19 [==============================] - 115s 6s/step - loss: 2.0685 - accuracy: 0.2800 - val_loss: 2.9438 - val_accuracy: 0.2038\n",
            "Epoch 10/50\n",
            "19/19 [==============================] - 111s 6s/step - loss: 2.0944 - accuracy: 0.2733 - val_loss: 2.8299 - val_accuracy: 0.0955\n",
            "Epoch 11/50\n",
            "19/19 [==============================] - 107s 6s/step - loss: 2.2531 - accuracy: 0.2867 - val_loss: 2.7354 - val_accuracy: 0.2548\n",
            "Epoch 12/50\n",
            "19/19 [==============================] - 108s 6s/step - loss: 2.0146 - accuracy: 0.3000 - val_loss: 2.8428 - val_accuracy: 0.2102\n",
            "Epoch 13/50\n",
            "19/19 [==============================] - 129s 7s/step - loss: 1.8294 - accuracy: 0.3533 - val_loss: 3.1068 - val_accuracy: 0.1847\n",
            "Epoch 14/50\n",
            "19/19 [==============================] - 128s 7s/step - loss: 1.8406 - accuracy: 0.3533 - val_loss: 3.1004 - val_accuracy: 0.1975\n",
            "Epoch 15/50\n",
            "19/19 [==============================] - 129s 7s/step - loss: 1.7314 - accuracy: 0.4200 - val_loss: 3.1026 - val_accuracy: 0.2102\n",
            "Epoch 16/50\n",
            "19/19 [==============================] - 129s 7s/step - loss: 1.5903 - accuracy: 0.5067 - val_loss: 3.2683 - val_accuracy: 0.1911\n",
            "Epoch 17/50\n",
            "19/19 [==============================] - 131s 7s/step - loss: 1.4562 - accuracy: 0.4667 - val_loss: 3.3126 - val_accuracy: 0.2420\n",
            "Epoch 18/50\n",
            "19/19 [==============================] - 129s 7s/step - loss: 1.4576 - accuracy: 0.5067 - val_loss: 3.6779 - val_accuracy: 0.2484\n",
            "Epoch 19/50\n",
            "19/19 [==============================] - 136s 7s/step - loss: 1.2279 - accuracy: 0.6200 - val_loss: 3.9139 - val_accuracy: 0.2102\n",
            "Epoch 20/50\n",
            "19/19 [==============================] - 128s 7s/step - loss: 1.1594 - accuracy: 0.6133 - val_loss: 4.0112 - val_accuracy: 0.2548\n",
            "Epoch 21/50\n",
            "19/19 [==============================] - 130s 7s/step - loss: 1.1816 - accuracy: 0.5600 - val_loss: 3.8193 - val_accuracy: 0.2675\n",
            "Epoch 22/50\n",
            "19/19 [==============================] - 112s 6s/step - loss: 1.1722 - accuracy: 0.6067 - val_loss: 3.7265 - val_accuracy: 0.2548\n",
            "Epoch 23/50\n",
            "19/19 [==============================] - 129s 7s/step - loss: 0.9648 - accuracy: 0.6800 - val_loss: 4.3925 - val_accuracy: 0.2357\n",
            "Epoch 24/50\n",
            "19/19 [==============================] - 129s 7s/step - loss: 0.9755 - accuracy: 0.6800 - val_loss: 4.0066 - val_accuracy: 0.2803\n",
            "Epoch 25/50\n",
            "19/19 [==============================] - 128s 7s/step - loss: 0.7784 - accuracy: 0.7600 - val_loss: 4.3030 - val_accuracy: 0.2930\n",
            "Epoch 26/50\n",
            "19/19 [==============================] - 107s 6s/step - loss: 0.7718 - accuracy: 0.7533 - val_loss: 5.4779 - val_accuracy: 0.3057\n",
            "Epoch 27/50\n",
            "19/19 [==============================] - 108s 6s/step - loss: 0.7911 - accuracy: 0.7133 - val_loss: 4.4972 - val_accuracy: 0.2675\n",
            "Epoch 28/50\n",
            "19/19 [==============================] - 116s 6s/step - loss: 0.8377 - accuracy: 0.7000 - val_loss: 4.8597 - val_accuracy: 0.3121\n",
            "Epoch 29/50\n",
            "19/19 [==============================] - 127s 7s/step - loss: 0.9395 - accuracy: 0.7200 - val_loss: 4.6344 - val_accuracy: 0.2803\n",
            "Epoch 30/50\n",
            "19/19 [==============================] - 128s 7s/step - loss: 0.6596 - accuracy: 0.8067 - val_loss: 4.5855 - val_accuracy: 0.2739\n",
            "Epoch 31/50\n",
            "19/19 [==============================] - 128s 7s/step - loss: 0.5525 - accuracy: 0.8133 - val_loss: 5.1075 - val_accuracy: 0.2994\n",
            "Epoch 32/50\n",
            "19/19 [==============================] - 114s 6s/step - loss: 0.4655 - accuracy: 0.8600 - val_loss: 6.2089 - val_accuracy: 0.2994\n",
            "Epoch 33/50\n",
            "19/19 [==============================] - 120s 7s/step - loss: 0.6217 - accuracy: 0.8133 - val_loss: 5.2241 - val_accuracy: 0.3248\n",
            "Epoch 34/50\n",
            "19/19 [==============================] - 131s 7s/step - loss: 0.3829 - accuracy: 0.8867 - val_loss: 5.8334 - val_accuracy: 0.3121\n",
            "Epoch 35/50\n",
            "19/19 [==============================] - 129s 7s/step - loss: 0.3127 - accuracy: 0.9133 - val_loss: 6.3655 - val_accuracy: 0.3376\n",
            "Epoch 36/50\n",
            "19/19 [==============================] - 109s 6s/step - loss: 0.5160 - accuracy: 0.8400 - val_loss: 5.5252 - val_accuracy: 0.2675\n",
            "Epoch 37/50\n",
            "19/19 [==============================] - 128s 7s/step - loss: 0.6362 - accuracy: 0.8267 - val_loss: 5.3411 - val_accuracy: 0.3567\n",
            "Epoch 38/50\n",
            "19/19 [==============================] - 131s 7s/step - loss: 0.4366 - accuracy: 0.8400 - val_loss: 5.7259 - val_accuracy: 0.3121\n",
            "Epoch 39/50\n",
            "19/19 [==============================] - 108s 6s/step - loss: 0.3053 - accuracy: 0.9133 - val_loss: 6.9797 - val_accuracy: 0.3121\n",
            "Epoch 40/50\n",
            "19/19 [==============================] - 128s 7s/step - loss: 0.2586 - accuracy: 0.9133 - val_loss: 6.6200 - val_accuracy: 0.2739\n",
            "Epoch 41/50\n",
            "19/19 [==============================] - 111s 6s/step - loss: 0.2046 - accuracy: 0.9467 - val_loss: 7.2386 - val_accuracy: 0.3185\n",
            "Epoch 42/50\n",
            "19/19 [==============================] - 134s 7s/step - loss: 0.1164 - accuracy: 0.9867 - val_loss: 7.5173 - val_accuracy: 0.3631\n",
            "Epoch 43/50\n",
            "19/19 [==============================] - 129s 7s/step - loss: 0.1326 - accuracy: 0.9533 - val_loss: 8.1818 - val_accuracy: 0.2739\n",
            "Epoch 44/50\n",
            "19/19 [==============================] - 110s 6s/step - loss: 0.5111 - accuracy: 0.8733 - val_loss: 6.4473 - val_accuracy: 0.2994\n",
            "Epoch 45/50\n",
            "19/19 [==============================] - 109s 6s/step - loss: 0.4168 - accuracy: 0.8667 - val_loss: 6.7141 - val_accuracy: 0.2548\n",
            "Epoch 46/50\n",
            "19/19 [==============================] - 128s 7s/step - loss: 0.2655 - accuracy: 0.9400 - val_loss: 5.7756 - val_accuracy: 0.2803\n",
            "Epoch 47/50\n",
            "19/19 [==============================] - 129s 7s/step - loss: 0.2001 - accuracy: 0.9267 - val_loss: 6.8709 - val_accuracy: 0.3057\n",
            "Epoch 48/50\n",
            "19/19 [==============================] - 130s 7s/step - loss: 0.3711 - accuracy: 0.9133 - val_loss: 7.1548 - val_accuracy: 0.2611\n",
            "Epoch 49/50\n",
            "19/19 [==============================] - 130s 7s/step - loss: 0.2863 - accuracy: 0.9267 - val_loss: 6.8502 - val_accuracy: 0.3503\n",
            "Epoch 50/50\n",
            "19/19 [==============================] - 130s 7s/step - loss: 0.2513 - accuracy: 0.9533 - val_loss: 6.3772 - val_accuracy: 0.3312\n"
          ]
        },
        {
          "output_type": "execute_result",
          "data": {
            "text/plain": [
              "<keras.callbacks.History at 0x7f025e19e650>"
            ]
          },
          "metadata": {},
          "execution_count": 33
        }
      ]
    },
    {
      "cell_type": "code",
      "source": [
        "model.save('bird_species_model.h5')"
      ],
      "metadata": {
        "id": "r8hnVpP8bDI7"
      },
      "execution_count": null,
      "outputs": []
    },
    {
      "cell_type": "code",
      "source": [
        "# Load the trained model\n",
        "from tensorflow.keras.models import load_model\n",
        "\n",
        "model = load_model('/content/bird_species_model.h5')\n",
        "\n",
        "# Load the test dataset\n",
        "from tensorflow.keras.preprocessing.image import ImageDataGenerator\n",
        "\n",
        "test_data_dir = '/content/drive/MyDrive/SmartBridge AI(20BIT0441)/birds_species/test_data/test_data'\n",
        "test_gen = ImageDataGenerator(rescale=(1./255))\n",
        "test = test_gen.flow_from_directory(test_data_dir,\n",
        "                                    target_size=(120, 120),\n",
        "                                    class_mode='categorical',\n",
        "                                    batch_size=8)\n",
        "\n",
        "# Evaluate the model on the test dataset\n",
        "test_loss, test_accuracy = model.evaluate(test)\n",
        "\n",
        "print(\"Test Loss:\", test_loss)\n",
        "print(\"Test Accuracy:\", test_accuracy)\n"
      ],
      "metadata": {
        "colab": {
          "base_uri": "https://localhost:8080/"
        },
        "id": "8yw2VMkw2rwG",
        "outputId": "c26ba7af-4c33-44ff-c515-9a49740fcc83"
      },
      "execution_count": null,
      "outputs": [
        {
          "output_type": "stream",
          "name": "stdout",
          "text": [
            "Found 157 images belonging to 16 classes.\n",
            "20/20 [==============================] - 69s 3s/step - loss: 6.3772 - accuracy: 0.3312\n",
            "Test Loss: 6.377198219299316\n",
            "Test Accuracy: 0.331210196018219\n"
          ]
        }
      ]
    },
    {
      "cell_type": "code",
      "source": [
        "#Testing\n",
        "import numpy as np\n",
        "from tensorflow.keras.preprocessing import image\n",
        "img = image.load_img('/content/Rebimg.jpeg',target_size=(120, 120))\n",
        "model = load_model('/content/bird_species_model.h5')\n",
        "img = image.img_to_array(img)\n",
        "img=np.expand_dims(img,axis=0)\n",
        "np.argmax(model.predict(img))\n",
        "print(np.argmax(model.predict(img)))\n",
        "#getting value from dict\n",
        "indexKey=np.argmax(model.predict(img))\n",
        "new_index_var[indexKey]"
      ],
      "metadata": {
        "colab": {
          "base_uri": "https://localhost:8080/",
          "height": 105
        },
        "id": "sDMiF6A22sgS",
        "outputId": "5118af02-7df3-4650-d82a-255eb5230f41"
      },
      "execution_count": null,
      "outputs": [
        {
          "output_type": "stream",
          "name": "stdout",
          "text": [
            "1/1 [==============================] - 0s 113ms/step\n",
            "1/1 [==============================] - 0s 28ms/step\n",
            "14\n",
            "1/1 [==============================] - 0s 34ms/step\n"
          ]
        },
        {
          "output_type": "execute_result",
          "data": {
            "text/plain": [
              "'rebimg'"
            ],
            "application/vnd.google.colaboratory.intrinsic+json": {
              "type": "string"
            }
          },
          "metadata": {},
          "execution_count": 37
        }
      ]
    }
  ]
}