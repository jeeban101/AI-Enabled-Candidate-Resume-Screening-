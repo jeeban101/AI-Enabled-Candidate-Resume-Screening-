{
  "nbformat": 4,
  "nbformat_minor": 0,
  "metadata": {
    "colab": {
      "provenance": []
    },
    "kernelspec": {
      "name": "python3",
      "display_name": "Python 3"
    },
    "language_info": {
      "name": "python"
    }
  },
  "cells": [
    {
      "cell_type": "code",
      "execution_count": null,
      "metadata": {
        "colab": {
          "base_uri": "https://localhost:8080/"
        },
        "id": "VQgQJ7reb06n",
        "outputId": "6c6489c4-90cd-4853-9050-dbb5be685c70"
      },
      "outputs": [
        {
          "output_type": "stream",
          "name": "stdout",
          "text": [
            "   Feature 1  Feature 2  Feature 3  Feature 4\n",
            "0  -1.731242  -0.585135  -1.679441   0.989893\n",
            "1  -0.188948   1.901750  -1.476844   1.161896\n",
            "2   0.088454   1.173552   0.448423  -1.178443\n",
            "3  -0.687389   2.513974   0.587528   0.508894\n"
          ]
        }
      ],
      "source": [
        "# Task 1\n",
        "import numpy as np\n",
        "import pandas as pd\n",
        "\n",
        "# Generate random values\n",
        "data = np.random.randn(4, 4)  # 4 features, 4 observations\n",
        "\n",
        "# Create DataFrame\n",
        "df = pd.DataFrame(data, columns=['Feature 1', 'Feature 2', 'Feature 3', 'Feature 4'])\n",
        "\n",
        "# Print the DataFrame\n",
        "print(df)\n"
      ]
    },
    {
      "cell_type": "code",
      "source": [
        "# Task 2\n",
        "# Rename column names\n",
        "df = df.rename(columns={'Feature 1': 'Random value 1',\n",
        "                        'Feature 2': 'Random value 2',\n",
        "                        'Feature 3': 'Random value 3',\n",
        "                        'Feature 4': 'Random value 4'})\n",
        "\n",
        "# Print the updated DataFrame\n",
        "print(df)\n"
      ],
      "metadata": {
        "colab": {
          "base_uri": "https://localhost:8080/"
        },
        "id": "TV35UFG8eoeq",
        "outputId": "3f567930-2a39-4b1d-f6ea-6473a2c85938"
      },
      "execution_count": null,
      "outputs": [
        {
          "output_type": "stream",
          "name": "stdout",
          "text": [
            "   Random value 1  Random value 2  Random value 3  Random value 4\n",
            "0       -1.731242       -0.585135       -1.679441        0.989893\n",
            "1       -0.188948        1.901750       -1.476844        1.161896\n",
            "2        0.088454        1.173552        0.448423       -1.178443\n",
            "3       -0.687389        2.513974        0.587528        0.508894\n"
          ]
        }
      ]
    },
    {
      "cell_type": "code",
      "source": [
        "# Task 3\n",
        "# Calculate descriptive statistics\n",
        "statistics = df.describe()\n",
        "\n",
        "# Print the descriptive statistics\n",
        "print(statistics)\n"
      ],
      "metadata": {
        "colab": {
          "base_uri": "https://localhost:8080/"
        },
        "id": "UlLfKhjffhq6",
        "outputId": "08b50d7a-6e46-40ae-ca4b-8f1a1d61c7fe"
      },
      "execution_count": null,
      "outputs": [
        {
          "output_type": "stream",
          "name": "stdout",
          "text": [
            "       Random value 1  Random value 2  Random value 3  Random value 4\n",
            "count        4.000000        4.000000        4.000000        4.000000\n",
            "mean        -0.629781        1.251035       -0.530083        0.370560\n",
            "std          0.801401        1.341140        1.214346        1.069008\n",
            "min         -1.731242       -0.585135       -1.679441       -1.178443\n",
            "25%         -0.948352        0.733880       -1.527493        0.087060\n",
            "50%         -0.438169        1.537651       -0.514210        0.749393\n",
            "75%         -0.119598        2.054806        0.483199        1.032894\n",
            "max          0.088454        2.513974        0.587528        1.161896\n"
          ]
        }
      ]
    },
    {
      "cell_type": "code",
      "source": [
        "# Task 4\n",
        "# Check for null values\n",
        "null_values = df.isnull().sum()\n",
        "print(\"Null Values:\")\n",
        "print(null_values)\n",
        "\n",
        "# Find data types of columns\n",
        "data_types = df.dtypes\n",
        "print(\"\\nData Types:\")\n",
        "print(data_types)\n"
      ],
      "metadata": {
        "colab": {
          "base_uri": "https://localhost:8080/"
        },
        "id": "eFiXadrgfxZB",
        "outputId": "df8a4603-f459-4c17-c2c5-57183e71da1b"
      },
      "execution_count": null,
      "outputs": [
        {
          "output_type": "stream",
          "name": "stdout",
          "text": [
            "Null Values:\n",
            "Random value 1    0\n",
            "Random value 2    0\n",
            "Random value 3    0\n",
            "Random value 4    0\n",
            "dtype: int64\n",
            "\n",
            "Data Types:\n",
            "Random value 1    float64\n",
            "Random value 2    float64\n",
            "Random value 3    float64\n",
            "Random value 4    float64\n",
            "dtype: object\n"
          ]
        }
      ]
    },
    {
      "cell_type": "code",
      "source": [
        "# Task 5\n",
        "# Display columns using loc method\n",
        "columns_loc = df.loc[:, ['Random value 2', 'Random value 3']]\n",
        "print(\"Columns using loc method:\")\n",
        "print(columns_loc)\n",
        "\n",
        "# Display columns using index location method\n",
        "columns_index_loc = df.iloc[:, [1, 2]]\n",
        "print(\"\\nColumns using index location method:\")\n",
        "print(columns_index_loc)\n"
      ],
      "metadata": {
        "id": "keGcLvl4gEgY",
        "outputId": "e639dee1-1c05-4fe3-8c6b-498fa654cbba",
        "colab": {
          "base_uri": "https://localhost:8080/"
        }
      },
      "execution_count": null,
      "outputs": [
        {
          "output_type": "stream",
          "name": "stdout",
          "text": [
            "Columns using loc method:\n",
            "   Random value 2  Random value 3\n",
            "0       -0.585135       -1.679441\n",
            "1        1.901750       -1.476844\n",
            "2        1.173552        0.448423\n",
            "3        2.513974        0.587528\n",
            "\n",
            "Columns using index location method:\n",
            "   Random value 2  Random value 3\n",
            "0       -0.585135       -1.679441\n",
            "1        1.901750       -1.476844\n",
            "2        1.173552        0.448423\n",
            "3        2.513974        0.587528\n"
          ]
        }
      ]
    }
  ]
}